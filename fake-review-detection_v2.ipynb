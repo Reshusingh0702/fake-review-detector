{
 "cells": [
  {
   "cell_type": "markdown",
   "metadata": {},
   "source": [
    "# Fake Review Detector"
   ]
  },
  {
   "cell_type": "markdown",
   "metadata": {},
   "source": [
    "### Importing the necessary libraries"
   ]
  },
  {
   "cell_type": "code",
   "execution_count": null,
   "metadata": {
    "execution": {
     "iopub.execute_input": "2025-05-07T16:31:24.608624Z",
     "iopub.status.busy": "2025-05-07T16:31:24.608260Z",
     "iopub.status.idle": "2025-05-07T16:31:29.436536Z",
     "shell.execute_reply": "2025-05-07T16:31:29.435547Z",
     "shell.execute_reply.started": "2025-05-07T16:31:24.608592Z"
    },
    "trusted": true
   },
   "outputs": [],
   "source": [
    "!pip install nltk"
   ]
  },
  {
   "cell_type": "code",
   "execution_count": 1,
   "metadata": {
    "_cell_guid": "b1076dfc-b9ad-4769-8c92-a6c4dae69d19",
    "_uuid": "8f2839f25d086af736a60e9eeb907d3b93b6e0e5",
    "execution": {
     "iopub.execute_input": "2025-05-07T16:31:29.438649Z",
     "iopub.status.busy": "2025-05-07T16:31:29.438401Z",
     "iopub.status.idle": "2025-05-07T16:31:32.456751Z",
     "shell.execute_reply": "2025-05-07T16:31:32.455809Z",
     "shell.execute_reply.started": "2025-05-07T16:31:29.438629Z"
    },
    "trusted": true
   },
   "outputs": [],
   "source": [
    "import pandas as pd\n",
    "import numpy as np\n",
    "import pickle\n",
    "\n",
    "import matplotlib.pyplot as plt\n",
    "import seaborn as sns\n",
    "\n",
    "import nltk\n",
    "from nltk.corpus import stopwords\n",
    "from nltk.stem.porter import PorterStemmer\n",
    "\n",
    "import string\n",
    "from wordcloud import WordCloud\n",
    "\n",
    "from sklearn.feature_extraction.text import TfidfVectorizer\n",
    "from sklearn.preprocessing import LabelEncoder\n",
    "\n",
    "from sklearn.model_selection import train_test_split\n",
    "from sklearn.metrics import accuracy_score,precision_score\n",
    "\n",
    "from sklearn.linear_model import LogisticRegression\n",
    "from sklearn.ensemble import RandomForestClassifier\n",
    "from sklearn.neighbors import KNeighborsClassifier\n",
    "from sklearn.tree import DecisionTreeClassifier\n",
    "from sklearn.ensemble import AdaBoostClassifier\n",
    "from xgboost import XGBClassifier\n",
    "\n",
    "# from sklearn.naive_bayes import MultinomialNB\n",
    "# from sklearn.svm import SVC\n",
    "\n",
    "from sklearn.ensemble import StackingClassifier\n",
    "from sklearn.ensemble import VotingClassifier"
   ]
  },
  {
   "cell_type": "code",
   "execution_count": null,
   "metadata": {
    "execution": {
     "iopub.execute_input": "2025-05-07T16:31:32.458148Z",
     "iopub.status.busy": "2025-05-07T16:31:32.457691Z",
     "iopub.status.idle": "2025-05-07T16:31:32.854636Z",
     "shell.execute_reply": "2025-05-07T16:31:32.853723Z",
     "shell.execute_reply.started": "2025-05-07T16:31:32.458118Z"
    },
    "trusted": true
   },
   "outputs": [],
   "source": [
    "nltk.download('punkt')\n",
    "nltk.download('punkt_tab')\n",
    "nltk.download('stopwords')"
   ]
  },
  {
   "cell_type": "markdown",
   "metadata": {},
   "source": [
    "### Supressing warnings"
   ]
  },
  {
   "cell_type": "code",
   "execution_count": 2,
   "metadata": {
    "execution": {
     "iopub.execute_input": "2025-05-07T16:31:32.856520Z",
     "iopub.status.busy": "2025-05-07T16:31:32.855611Z",
     "iopub.status.idle": "2025-05-07T16:31:32.860325Z",
     "shell.execute_reply": "2025-05-07T16:31:32.859330Z",
     "shell.execute_reply.started": "2025-05-07T16:31:32.856493Z"
    },
    "trusted": true
   },
   "outputs": [],
   "source": [
    "import warnings\n",
    "warnings.simplefilter(action='ignore', category=FutureWarning)"
   ]
  },
  {
   "cell_type": "markdown",
   "metadata": {},
   "source": [
    "### Loading the dataset"
   ]
  },
  {
   "cell_type": "code",
   "execution_count": 3,
   "metadata": {
    "execution": {
     "iopub.execute_input": "2025-05-07T16:31:32.862906Z",
     "iopub.status.busy": "2025-05-07T16:31:32.862654Z",
     "iopub.status.idle": "2025-05-07T16:31:33.290175Z",
     "shell.execute_reply": "2025-05-07T16:31:33.289315Z",
     "shell.execute_reply.started": "2025-05-07T16:31:32.862884Z"
    },
    "trusted": true
   },
   "outputs": [
    {
     "data": {
      "text/html": [
       "<div>\n",
       "<style scoped>\n",
       "    .dataframe tbody tr th:only-of-type {\n",
       "        vertical-align: middle;\n",
       "    }\n",
       "\n",
       "    .dataframe tbody tr th {\n",
       "        vertical-align: top;\n",
       "    }\n",
       "\n",
       "    .dataframe thead th {\n",
       "        text-align: right;\n",
       "    }\n",
       "</style>\n",
       "<table border=\"1\" class=\"dataframe\">\n",
       "  <thead>\n",
       "    <tr style=\"text-align: right;\">\n",
       "      <th></th>\n",
       "      <th>category</th>\n",
       "      <th>rating</th>\n",
       "      <th>label</th>\n",
       "      <th>text_</th>\n",
       "    </tr>\n",
       "  </thead>\n",
       "  <tbody>\n",
       "    <tr>\n",
       "      <th>0</th>\n",
       "      <td>Home_and_Kitchen_5</td>\n",
       "      <td>5.0</td>\n",
       "      <td>CG</td>\n",
       "      <td>Love this!  Well made, sturdy, and very comfor...</td>\n",
       "    </tr>\n",
       "    <tr>\n",
       "      <th>1</th>\n",
       "      <td>Home_and_Kitchen_5</td>\n",
       "      <td>5.0</td>\n",
       "      <td>CG</td>\n",
       "      <td>love it, a great upgrade from the original.  I...</td>\n",
       "    </tr>\n",
       "    <tr>\n",
       "      <th>2</th>\n",
       "      <td>Home_and_Kitchen_5</td>\n",
       "      <td>5.0</td>\n",
       "      <td>CG</td>\n",
       "      <td>This pillow saved my back. I love the look and...</td>\n",
       "    </tr>\n",
       "    <tr>\n",
       "      <th>3</th>\n",
       "      <td>Home_and_Kitchen_5</td>\n",
       "      <td>1.0</td>\n",
       "      <td>CG</td>\n",
       "      <td>Missing information on how to use it, but it i...</td>\n",
       "    </tr>\n",
       "    <tr>\n",
       "      <th>4</th>\n",
       "      <td>Home_and_Kitchen_5</td>\n",
       "      <td>5.0</td>\n",
       "      <td>CG</td>\n",
       "      <td>Very nice set. Good quality. We have had the s...</td>\n",
       "    </tr>\n",
       "  </tbody>\n",
       "</table>\n",
       "</div>"
      ],
      "text/plain": [
       "             category  rating label  \\\n",
       "0  Home_and_Kitchen_5     5.0    CG   \n",
       "1  Home_and_Kitchen_5     5.0    CG   \n",
       "2  Home_and_Kitchen_5     5.0    CG   \n",
       "3  Home_and_Kitchen_5     1.0    CG   \n",
       "4  Home_and_Kitchen_5     5.0    CG   \n",
       "\n",
       "                                               text_  \n",
       "0  Love this!  Well made, sturdy, and very comfor...  \n",
       "1  love it, a great upgrade from the original.  I...  \n",
       "2  This pillow saved my back. I love the look and...  \n",
       "3  Missing information on how to use it, but it i...  \n",
       "4  Very nice set. Good quality. We have had the s...  "
      ]
     },
     "execution_count": 3,
     "metadata": {},
     "output_type": "execute_result"
    }
   ],
   "source": [
    "df = pd.read_csv(r\"fake-reviews-dataset.csv\")\n",
    "df.head()"
   ]
  },
  {
   "cell_type": "markdown",
   "metadata": {},
   "source": [
    "## Preprocessing"
   ]
  },
  {
   "cell_type": "code",
   "execution_count": 4,
   "metadata": {
    "execution": {
     "iopub.execute_input": "2025-05-07T16:31:33.291358Z",
     "iopub.status.busy": "2025-05-07T16:31:33.291019Z",
     "iopub.status.idle": "2025-05-07T16:31:33.326859Z",
     "shell.execute_reply": "2025-05-07T16:31:33.325970Z",
     "shell.execute_reply.started": "2025-05-07T16:31:33.291332Z"
    },
    "trusted": true
   },
   "outputs": [
    {
     "name": "stdout",
     "output_type": "stream",
     "text": [
      "<class 'pandas.core.frame.DataFrame'>\n",
      "RangeIndex: 40432 entries, 0 to 40431\n",
      "Data columns (total 3 columns):\n",
      " #   Column  Non-Null Count  Dtype  \n",
      "---  ------  --------------  -----  \n",
      " 0   rating  40432 non-null  float64\n",
      " 1   label   40432 non-null  object \n",
      " 2   text_   40432 non-null  object \n",
      "dtypes: float64(1), object(2)\n",
      "memory usage: 947.8+ KB\n"
     ]
    }
   ],
   "source": [
    "df.drop(columns = {'category'}, inplace = True)\n",
    "df.info()"
   ]
  },
  {
   "cell_type": "code",
   "execution_count": 5,
   "metadata": {
    "execution": {
     "iopub.execute_input": "2025-05-07T16:31:33.328747Z",
     "iopub.status.busy": "2025-05-07T16:31:33.328045Z",
     "iopub.status.idle": "2025-05-07T16:31:33.338830Z",
     "shell.execute_reply": "2025-05-07T16:31:33.337889Z",
     "shell.execute_reply.started": "2025-05-07T16:31:33.328716Z"
    },
    "trusted": true
   },
   "outputs": [
    {
     "data": {
      "text/html": [
       "<div>\n",
       "<style scoped>\n",
       "    .dataframe tbody tr th:only-of-type {\n",
       "        vertical-align: middle;\n",
       "    }\n",
       "\n",
       "    .dataframe tbody tr th {\n",
       "        vertical-align: top;\n",
       "    }\n",
       "\n",
       "    .dataframe thead th {\n",
       "        text-align: right;\n",
       "    }\n",
       "</style>\n",
       "<table border=\"1\" class=\"dataframe\">\n",
       "  <thead>\n",
       "    <tr style=\"text-align: right;\">\n",
       "      <th></th>\n",
       "      <th>rating</th>\n",
       "      <th>label</th>\n",
       "      <th>text</th>\n",
       "    </tr>\n",
       "  </thead>\n",
       "  <tbody>\n",
       "    <tr>\n",
       "      <th>0</th>\n",
       "      <td>5.0</td>\n",
       "      <td>CG</td>\n",
       "      <td>Love this!  Well made, sturdy, and very comfor...</td>\n",
       "    </tr>\n",
       "    <tr>\n",
       "      <th>1</th>\n",
       "      <td>5.0</td>\n",
       "      <td>CG</td>\n",
       "      <td>love it, a great upgrade from the original.  I...</td>\n",
       "    </tr>\n",
       "    <tr>\n",
       "      <th>2</th>\n",
       "      <td>5.0</td>\n",
       "      <td>CG</td>\n",
       "      <td>This pillow saved my back. I love the look and...</td>\n",
       "    </tr>\n",
       "    <tr>\n",
       "      <th>3</th>\n",
       "      <td>1.0</td>\n",
       "      <td>CG</td>\n",
       "      <td>Missing information on how to use it, but it i...</td>\n",
       "    </tr>\n",
       "    <tr>\n",
       "      <th>4</th>\n",
       "      <td>5.0</td>\n",
       "      <td>CG</td>\n",
       "      <td>Very nice set. Good quality. We have had the s...</td>\n",
       "    </tr>\n",
       "  </tbody>\n",
       "</table>\n",
       "</div>"
      ],
      "text/plain": [
       "   rating label                                               text\n",
       "0     5.0    CG  Love this!  Well made, sturdy, and very comfor...\n",
       "1     5.0    CG  love it, a great upgrade from the original.  I...\n",
       "2     5.0    CG  This pillow saved my back. I love the look and...\n",
       "3     1.0    CG  Missing information on how to use it, but it i...\n",
       "4     5.0    CG  Very nice set. Good quality. We have had the s..."
      ]
     },
     "execution_count": 5,
     "metadata": {},
     "output_type": "execute_result"
    }
   ],
   "source": [
    "df.rename(columns = {'text_': 'text'}, inplace = True)\n",
    "df.head()"
   ]
  },
  {
   "cell_type": "markdown",
   "metadata": {},
   "source": [
    "### Label encoding"
   ]
  },
  {
   "cell_type": "code",
   "execution_count": 6,
   "metadata": {
    "execution": {
     "iopub.execute_input": "2025-05-07T16:31:33.340387Z",
     "iopub.status.busy": "2025-05-07T16:31:33.339928Z",
     "iopub.status.idle": "2025-05-07T16:31:33.359213Z",
     "shell.execute_reply": "2025-05-07T16:31:33.358251Z",
     "shell.execute_reply.started": "2025-05-07T16:31:33.340346Z"
    },
    "trusted": true
   },
   "outputs": [],
   "source": [
    "def encode_label(df):\n",
    "    labels = {\n",
    "        'CG': 0,\n",
    "        'OR': 1\n",
    "    }\n",
    "    \n",
    "    df['target'] = df['label'].map(labels)\n",
    "    return df"
   ]
  },
  {
   "cell_type": "code",
   "execution_count": 7,
   "metadata": {
    "execution": {
     "iopub.execute_input": "2025-05-07T16:31:33.360349Z",
     "iopub.status.busy": "2025-05-07T16:31:33.360063Z",
     "iopub.status.idle": "2025-05-07T16:31:33.389845Z",
     "shell.execute_reply": "2025-05-07T16:31:33.388972Z",
     "shell.execute_reply.started": "2025-05-07T16:31:33.360329Z"
    },
    "trusted": true
   },
   "outputs": [
    {
     "data": {
      "text/html": [
       "<div>\n",
       "<style scoped>\n",
       "    .dataframe tbody tr th:only-of-type {\n",
       "        vertical-align: middle;\n",
       "    }\n",
       "\n",
       "    .dataframe tbody tr th {\n",
       "        vertical-align: top;\n",
       "    }\n",
       "\n",
       "    .dataframe thead th {\n",
       "        text-align: right;\n",
       "    }\n",
       "</style>\n",
       "<table border=\"1\" class=\"dataframe\">\n",
       "  <thead>\n",
       "    <tr style=\"text-align: right;\">\n",
       "      <th></th>\n",
       "      <th>rating</th>\n",
       "      <th>label</th>\n",
       "      <th>text</th>\n",
       "      <th>target</th>\n",
       "    </tr>\n",
       "  </thead>\n",
       "  <tbody>\n",
       "    <tr>\n",
       "      <th>0</th>\n",
       "      <td>5.0</td>\n",
       "      <td>CG</td>\n",
       "      <td>Love this!  Well made, sturdy, and very comfor...</td>\n",
       "      <td>0</td>\n",
       "    </tr>\n",
       "    <tr>\n",
       "      <th>1</th>\n",
       "      <td>5.0</td>\n",
       "      <td>CG</td>\n",
       "      <td>love it, a great upgrade from the original.  I...</td>\n",
       "      <td>0</td>\n",
       "    </tr>\n",
       "    <tr>\n",
       "      <th>2</th>\n",
       "      <td>5.0</td>\n",
       "      <td>CG</td>\n",
       "      <td>This pillow saved my back. I love the look and...</td>\n",
       "      <td>0</td>\n",
       "    </tr>\n",
       "    <tr>\n",
       "      <th>3</th>\n",
       "      <td>1.0</td>\n",
       "      <td>CG</td>\n",
       "      <td>Missing information on how to use it, but it i...</td>\n",
       "      <td>0</td>\n",
       "    </tr>\n",
       "    <tr>\n",
       "      <th>4</th>\n",
       "      <td>5.0</td>\n",
       "      <td>CG</td>\n",
       "      <td>Very nice set. Good quality. We have had the s...</td>\n",
       "      <td>0</td>\n",
       "    </tr>\n",
       "  </tbody>\n",
       "</table>\n",
       "</div>"
      ],
      "text/plain": [
       "   rating label                                               text  target\n",
       "0     5.0    CG  Love this!  Well made, sturdy, and very comfor...       0\n",
       "1     5.0    CG  love it, a great upgrade from the original.  I...       0\n",
       "2     5.0    CG  This pillow saved my back. I love the look and...       0\n",
       "3     1.0    CG  Missing information on how to use it, but it i...       0\n",
       "4     5.0    CG  Very nice set. Good quality. We have had the s...       0"
      ]
     },
     "execution_count": 7,
     "metadata": {},
     "output_type": "execute_result"
    }
   ],
   "source": [
    "df = encode_label(df)\n",
    "df['target'] = df['target'].fillna(0).replace([np.inf, -np.inf], 0)\n",
    "df['target'] = df['target'].astype(int)\n",
    "\n",
    "df.head()"
   ]
  },
  {
   "cell_type": "code",
   "execution_count": 8,
   "metadata": {
    "execution": {
     "iopub.execute_input": "2025-05-07T16:31:33.391132Z",
     "iopub.status.busy": "2025-05-07T16:31:33.390820Z",
     "iopub.status.idle": "2025-05-07T16:31:33.398032Z",
     "shell.execute_reply": "2025-05-07T16:31:33.397029Z",
     "shell.execute_reply.started": "2025-05-07T16:31:33.391105Z"
    },
    "trusted": true
   },
   "outputs": [],
   "source": [
    "df.drop(columns = {'rating', 'label'}, inplace = True)"
   ]
  },
  {
   "cell_type": "code",
   "execution_count": 9,
   "metadata": {
    "execution": {
     "iopub.execute_input": "2025-05-07T16:31:33.399672Z",
     "iopub.status.busy": "2025-05-07T16:31:33.399003Z",
     "iopub.status.idle": "2025-05-07T16:31:33.429914Z",
     "shell.execute_reply": "2025-05-07T16:31:33.429026Z",
     "shell.execute_reply.started": "2025-05-07T16:31:33.399650Z"
    },
    "trusted": true
   },
   "outputs": [
    {
     "data": {
      "text/html": [
       "<div>\n",
       "<style scoped>\n",
       "    .dataframe tbody tr th:only-of-type {\n",
       "        vertical-align: middle;\n",
       "    }\n",
       "\n",
       "    .dataframe tbody tr th {\n",
       "        vertical-align: top;\n",
       "    }\n",
       "\n",
       "    .dataframe thead th {\n",
       "        text-align: right;\n",
       "    }\n",
       "</style>\n",
       "<table border=\"1\" class=\"dataframe\">\n",
       "  <thead>\n",
       "    <tr style=\"text-align: right;\">\n",
       "      <th></th>\n",
       "      <th>text</th>\n",
       "      <th>target</th>\n",
       "    </tr>\n",
       "  </thead>\n",
       "  <tbody>\n",
       "    <tr>\n",
       "      <th>2154</th>\n",
       "      <td>It zips-up high, well made, and has the wide b...</td>\n",
       "      <td>0</td>\n",
       "    </tr>\n",
       "    <tr>\n",
       "      <th>9094</th>\n",
       "      <td>Love these jars.  They are a nice size and the...</td>\n",
       "      <td>0</td>\n",
       "    </tr>\n",
       "    <tr>\n",
       "      <th>19055</th>\n",
       "      <td>Love it! Perfect size and minimizes with no wi...</td>\n",
       "      <td>1</td>\n",
       "    </tr>\n",
       "    <tr>\n",
       "      <th>10325</th>\n",
       "      <td>Great story but I still felt like there is a l...</td>\n",
       "      <td>1</td>\n",
       "    </tr>\n",
       "    <tr>\n",
       "      <th>26632</th>\n",
       "      <td>I love these boots! I have an XL and they fit ...</td>\n",
       "      <td>0</td>\n",
       "    </tr>\n",
       "    <tr>\n",
       "      <th>7086</th>\n",
       "      <td>I am an independent reviewer and have never re...</td>\n",
       "      <td>0</td>\n",
       "    </tr>\n",
       "    <tr>\n",
       "      <th>24747</th>\n",
       "      <td>We use this with our toddler as a \"learning to...</td>\n",
       "      <td>1</td>\n",
       "    </tr>\n",
       "    <tr>\n",
       "      <th>34821</th>\n",
       "      <td>The Greatest TV sitcom show.  Excellent family...</td>\n",
       "      <td>0</td>\n",
       "    </tr>\n",
       "    <tr>\n",
       "      <th>38956</th>\n",
       "      <td>My 9 month old daughter loves it and she plays...</td>\n",
       "      <td>0</td>\n",
       "    </tr>\n",
       "    <tr>\n",
       "      <th>14105</th>\n",
       "      <td>This is a very good movie. The story is very g...</td>\n",
       "      <td>0</td>\n",
       "    </tr>\n",
       "  </tbody>\n",
       "</table>\n",
       "</div>"
      ],
      "text/plain": [
       "                                                    text  target\n",
       "2154   It zips-up high, well made, and has the wide b...       0\n",
       "9094   Love these jars.  They are a nice size and the...       0\n",
       "19055  Love it! Perfect size and minimizes with no wi...       1\n",
       "10325  Great story but I still felt like there is a l...       1\n",
       "26632  I love these boots! I have an XL and they fit ...       0\n",
       "7086   I am an independent reviewer and have never re...       0\n",
       "24747  We use this with our toddler as a \"learning to...       1\n",
       "34821  The Greatest TV sitcom show.  Excellent family...       0\n",
       "38956  My 9 month old daughter loves it and she plays...       0\n",
       "14105  This is a very good movie. The story is very g...       0"
      ]
     },
     "execution_count": 9,
     "metadata": {},
     "output_type": "execute_result"
    }
   ],
   "source": [
    "df = df.sample(frac=1).reset_index(drop=True)\n",
    "df.sample(10)"
   ]
  },
  {
   "cell_type": "code",
   "execution_count": 10,
   "metadata": {
    "execution": {
     "iopub.execute_input": "2025-05-07T16:31:33.431120Z",
     "iopub.status.busy": "2025-05-07T16:31:33.430812Z",
     "iopub.status.idle": "2025-05-07T16:31:33.445471Z",
     "shell.execute_reply": "2025-05-07T16:31:33.444221Z",
     "shell.execute_reply.started": "2025-05-07T16:31:33.431098Z"
    },
    "trusted": true
   },
   "outputs": [
    {
     "data": {
      "text/plain": [
       "text      0\n",
       "target    0\n",
       "dtype: int64"
      ]
     },
     "execution_count": 10,
     "metadata": {},
     "output_type": "execute_result"
    }
   ],
   "source": [
    "df.isnull().sum()"
   ]
  },
  {
   "cell_type": "code",
   "execution_count": 11,
   "metadata": {
    "execution": {
     "iopub.execute_input": "2025-05-07T16:31:33.446870Z",
     "iopub.status.busy": "2025-05-07T16:31:33.446517Z",
     "iopub.status.idle": "2025-05-07T16:31:33.520877Z",
     "shell.execute_reply": "2025-05-07T16:31:33.520113Z",
     "shell.execute_reply.started": "2025-05-07T16:31:33.446847Z"
    },
    "trusted": true
   },
   "outputs": [
    {
     "data": {
      "text/plain": [
       "np.int64(20)"
      ]
     },
     "execution_count": 11,
     "metadata": {},
     "output_type": "execute_result"
    }
   ],
   "source": [
    "df.duplicated().sum()"
   ]
  },
  {
   "cell_type": "code",
   "execution_count": 12,
   "metadata": {
    "execution": {
     "iopub.execute_input": "2025-05-07T16:31:33.524660Z",
     "iopub.status.busy": "2025-05-07T16:31:33.524319Z",
     "iopub.status.idle": "2025-05-07T16:31:33.640549Z",
     "shell.execute_reply": "2025-05-07T16:31:33.639548Z",
     "shell.execute_reply.started": "2025-05-07T16:31:33.524637Z"
    },
    "trusted": true
   },
   "outputs": [
    {
     "data": {
      "text/plain": [
       "np.int64(0)"
      ]
     },
     "execution_count": 12,
     "metadata": {},
     "output_type": "execute_result"
    }
   ],
   "source": [
    "df.drop_duplicates(inplace = True)\n",
    "df.duplicated().sum()"
   ]
  },
  {
   "cell_type": "code",
   "execution_count": 13,
   "metadata": {
    "execution": {
     "iopub.execute_input": "2025-05-07T16:31:33.641725Z",
     "iopub.status.busy": "2025-05-07T16:31:33.641439Z",
     "iopub.status.idle": "2025-05-07T16:31:33.651799Z",
     "shell.execute_reply": "2025-05-07T16:31:33.650782Z",
     "shell.execute_reply.started": "2025-05-07T16:31:33.641695Z"
    },
    "trusted": true
   },
   "outputs": [
    {
     "data": {
      "text/plain": [
       "target\n",
       "1    20215\n",
       "0    20197\n",
       "Name: count, dtype: int64"
      ]
     },
     "execution_count": 13,
     "metadata": {},
     "output_type": "execute_result"
    }
   ],
   "source": [
    "df['target'].value_counts()"
   ]
  },
  {
   "cell_type": "markdown",
   "metadata": {},
   "source": [
    "### Text preprocessing"
   ]
  },
  {
   "cell_type": "code",
   "execution_count": 14,
   "metadata": {
    "execution": {
     "iopub.execute_input": "2025-05-07T16:31:33.653045Z",
     "iopub.status.busy": "2025-05-07T16:31:33.652746Z",
     "iopub.status.idle": "2025-05-07T16:31:58.347312Z",
     "shell.execute_reply": "2025-05-07T16:31:58.346480Z",
     "shell.execute_reply.started": "2025-05-07T16:31:33.653021Z"
    },
    "trusted": true
   },
   "outputs": [],
   "source": [
    "df['num_characters'] = df['text'].apply(len)\n",
    "df['num_words'] = df['text'].apply(lambda x:len(nltk.word_tokenize(x)))\n",
    "df['num_sentences'] = df['text'].apply(lambda x:len(nltk.sent_tokenize(x)))"
   ]
  },
  {
   "cell_type": "code",
   "execution_count": 15,
   "metadata": {
    "execution": {
     "iopub.execute_input": "2025-05-07T16:31:58.348719Z",
     "iopub.status.busy": "2025-05-07T16:31:58.348394Z",
     "iopub.status.idle": "2025-05-07T16:31:58.357543Z",
     "shell.execute_reply": "2025-05-07T16:31:58.356584Z",
     "shell.execute_reply.started": "2025-05-07T16:31:58.348692Z"
    },
    "trusted": true
   },
   "outputs": [
    {
     "data": {
      "text/html": [
       "<div>\n",
       "<style scoped>\n",
       "    .dataframe tbody tr th:only-of-type {\n",
       "        vertical-align: middle;\n",
       "    }\n",
       "\n",
       "    .dataframe tbody tr th {\n",
       "        vertical-align: top;\n",
       "    }\n",
       "\n",
       "    .dataframe thead th {\n",
       "        text-align: right;\n",
       "    }\n",
       "</style>\n",
       "<table border=\"1\" class=\"dataframe\">\n",
       "  <thead>\n",
       "    <tr style=\"text-align: right;\">\n",
       "      <th></th>\n",
       "      <th>text</th>\n",
       "      <th>target</th>\n",
       "      <th>num_characters</th>\n",
       "      <th>num_words</th>\n",
       "      <th>num_sentences</th>\n",
       "    </tr>\n",
       "  </thead>\n",
       "  <tbody>\n",
       "    <tr>\n",
       "      <th>0</th>\n",
       "      <td>Was sure I read it was an easy way to feed the...</td>\n",
       "      <td>0</td>\n",
       "      <td>178</td>\n",
       "      <td>40</td>\n",
       "      <td>3</td>\n",
       "    </tr>\n",
       "    <tr>\n",
       "      <th>1</th>\n",
       "      <td>I loved this purse. But, it didn't last long. ...</td>\n",
       "      <td>1</td>\n",
       "      <td>181</td>\n",
       "      <td>43</td>\n",
       "      <td>4</td>\n",
       "    </tr>\n",
       "    <tr>\n",
       "      <th>2</th>\n",
       "      <td>bought some about a year ago.  just bought my ...</td>\n",
       "      <td>1</td>\n",
       "      <td>54</td>\n",
       "      <td>13</td>\n",
       "      <td>2</td>\n",
       "    </tr>\n",
       "    <tr>\n",
       "      <th>3</th>\n",
       "      <td>I have a small Cavalier King Charles girl who ...</td>\n",
       "      <td>1</td>\n",
       "      <td>525</td>\n",
       "      <td>111</td>\n",
       "      <td>8</td>\n",
       "    </tr>\n",
       "    <tr>\n",
       "      <th>4</th>\n",
       "      <td>really love this the material is really nice a...</td>\n",
       "      <td>1</td>\n",
       "      <td>89</td>\n",
       "      <td>17</td>\n",
       "      <td>1</td>\n",
       "    </tr>\n",
       "  </tbody>\n",
       "</table>\n",
       "</div>"
      ],
      "text/plain": [
       "                                                text  target  num_characters  \\\n",
       "0  Was sure I read it was an easy way to feed the...       0             178   \n",
       "1  I loved this purse. But, it didn't last long. ...       1             181   \n",
       "2  bought some about a year ago.  just bought my ...       1              54   \n",
       "3  I have a small Cavalier King Charles girl who ...       1             525   \n",
       "4  really love this the material is really nice a...       1              89   \n",
       "\n",
       "   num_words  num_sentences  \n",
       "0         40              3  \n",
       "1         43              4  \n",
       "2         13              2  \n",
       "3        111              8  \n",
       "4         17              1  "
      ]
     },
     "execution_count": 15,
     "metadata": {},
     "output_type": "execute_result"
    }
   ],
   "source": [
    "df.head()"
   ]
  },
  {
   "cell_type": "markdown",
   "metadata": {},
   "source": [
    "## EDA"
   ]
  },
  {
   "cell_type": "code",
   "execution_count": 16,
   "metadata": {
    "execution": {
     "iopub.execute_input": "2025-05-07T16:31:58.359134Z",
     "iopub.status.busy": "2025-05-07T16:31:58.358510Z",
     "iopub.status.idle": "2025-05-07T16:31:58.403187Z",
     "shell.execute_reply": "2025-05-07T16:31:58.402306Z",
     "shell.execute_reply.started": "2025-05-07T16:31:58.359104Z"
    },
    "trusted": true
   },
   "outputs": [
    {
     "data": {
      "text/html": [
       "<div>\n",
       "<style scoped>\n",
       "    .dataframe tbody tr th:only-of-type {\n",
       "        vertical-align: middle;\n",
       "    }\n",
       "\n",
       "    .dataframe tbody tr th {\n",
       "        vertical-align: top;\n",
       "    }\n",
       "\n",
       "    .dataframe thead th {\n",
       "        text-align: right;\n",
       "    }\n",
       "</style>\n",
       "<table border=\"1\" class=\"dataframe\">\n",
       "  <thead>\n",
       "    <tr style=\"text-align: right;\">\n",
       "      <th></th>\n",
       "      <th>target</th>\n",
       "      <th>num_characters</th>\n",
       "      <th>num_words</th>\n",
       "      <th>num_sentences</th>\n",
       "    </tr>\n",
       "  </thead>\n",
       "  <tbody>\n",
       "    <tr>\n",
       "      <th>count</th>\n",
       "      <td>40412.000000</td>\n",
       "      <td>40412.000000</td>\n",
       "      <td>40412.000000</td>\n",
       "      <td>40412.000000</td>\n",
       "    </tr>\n",
       "    <tr>\n",
       "      <th>mean</th>\n",
       "      <td>0.500223</td>\n",
       "      <td>352.151787</td>\n",
       "      <td>76.691131</td>\n",
       "      <td>5.277071</td>\n",
       "    </tr>\n",
       "    <tr>\n",
       "      <th>std</th>\n",
       "      <td>0.500006</td>\n",
       "      <td>371.130271</td>\n",
       "      <td>79.242859</td>\n",
       "      <td>4.915033</td>\n",
       "    </tr>\n",
       "    <tr>\n",
       "      <th>min</th>\n",
       "      <td>0.000000</td>\n",
       "      <td>24.000000</td>\n",
       "      <td>2.000000</td>\n",
       "      <td>1.000000</td>\n",
       "    </tr>\n",
       "    <tr>\n",
       "      <th>25%</th>\n",
       "      <td>0.000000</td>\n",
       "      <td>107.000000</td>\n",
       "      <td>24.000000</td>\n",
       "      <td>2.000000</td>\n",
       "    </tr>\n",
       "    <tr>\n",
       "      <th>50%</th>\n",
       "      <td>1.000000</td>\n",
       "      <td>198.000000</td>\n",
       "      <td>44.000000</td>\n",
       "      <td>3.000000</td>\n",
       "    </tr>\n",
       "    <tr>\n",
       "      <th>75%</th>\n",
       "      <td>1.000000</td>\n",
       "      <td>440.000000</td>\n",
       "      <td>96.000000</td>\n",
       "      <td>6.000000</td>\n",
       "    </tr>\n",
       "    <tr>\n",
       "      <th>max</th>\n",
       "      <td>1.000000</td>\n",
       "      <td>2836.000000</td>\n",
       "      <td>510.000000</td>\n",
       "      <td>133.000000</td>\n",
       "    </tr>\n",
       "  </tbody>\n",
       "</table>\n",
       "</div>"
      ],
      "text/plain": [
       "             target  num_characters     num_words  num_sentences\n",
       "count  40412.000000    40412.000000  40412.000000   40412.000000\n",
       "mean       0.500223      352.151787     76.691131       5.277071\n",
       "std        0.500006      371.130271     79.242859       4.915033\n",
       "min        0.000000       24.000000      2.000000       1.000000\n",
       "25%        0.000000      107.000000     24.000000       2.000000\n",
       "50%        1.000000      198.000000     44.000000       3.000000\n",
       "75%        1.000000      440.000000     96.000000       6.000000\n",
       "max        1.000000     2836.000000    510.000000     133.000000"
      ]
     },
     "execution_count": 16,
     "metadata": {},
     "output_type": "execute_result"
    }
   ],
   "source": [
    "df.describe()"
   ]
  },
  {
   "cell_type": "code",
   "execution_count": 20,
   "metadata": {
    "execution": {
     "iopub.execute_input": "2025-05-07T16:31:58.404466Z",
     "iopub.status.busy": "2025-05-07T16:31:58.404144Z",
     "iopub.status.idle": "2025-05-07T16:31:58.584256Z",
     "shell.execute_reply": "2025-05-07T16:31:58.583106Z",
     "shell.execute_reply.started": "2025-05-07T16:31:58.404436Z"
    },
    "trusted": true
   },
   "outputs": [
    {
     "data": {
      "image/png": "[encoded data removed]",
      "text/plain": [
       "<Figure size 640x480 with 1 Axes>"
      ]
     },
     "metadata": {},
     "output_type": "display_data"
    }
   ],
   "source": [
    "plt.pie(df['target'].value_counts(), labels=['Genuine', 'Fake'],autopct=\"%0.2f\")\n",
    "\n",
    "plt.title(\"Review Class Distribution (in %)\", fontweight='bold')\n",
    "plt.show()"
   ]
  },
  {
   "cell_type": "markdown",
   "metadata": {},
   "source": [
    "### Correlational analysis"
   ]
  },
  {
   "cell_type": "code",
   "execution_count": 18,
   "metadata": {
    "execution": {
     "iopub.execute_input": "2025-05-07T16:31:58.585429Z",
     "iopub.status.busy": "2025-05-07T16:31:58.585156Z",
     "iopub.status.idle": "2025-05-07T16:32:16.006570Z",
     "shell.execute_reply": "2025-05-07T16:32:16.005413Z",
     "shell.execute_reply.started": "2025-05-07T16:31:58.585408Z"
    },
    "trusted": true
   },
   "outputs": [
    {
     "data": {
      "image/png": "[encoded data removed]",
      "text/plain": [
       "<Figure size 808.875x750 with 12 Axes>"
      ]
     },
     "metadata": {},
     "output_type": "display_data"
    }
   ],
   "source": [
    "sns.pairplot(df,hue='target')\n",
    "plt.show()"
   ]
  },
  {
   "cell_type": "code",
   "execution_count": 21,
   "metadata": {
    "execution": {
     "iopub.execute_input": "2025-05-07T16:32:16.007993Z",
     "iopub.status.busy": "2025-05-07T16:32:16.007691Z",
     "iopub.status.idle": "2025-05-07T16:32:16.218320Z",
     "shell.execute_reply": "2025-05-07T16:32:16.217451Z",
     "shell.execute_reply.started": "2025-05-07T16:32:16.007963Z"
    },
    "trusted": true
   },
   "outputs": [
    {
     "data": {
      "image/png": "[encoded data removed]",
      "text/plain": [
       "<Figure size 640x480 with 2 Axes>"
      ]
     },
     "metadata": {},
     "output_type": "display_data"
    }
   ],
   "source": [
    "df_numeric = df.select_dtypes(include = 'number')\n",
    "sns.heatmap(df_numeric.corr(),annot=True)\n",
    "\n",
    "plt.show()"
   ]
  },
  {
   "cell_type": "markdown",
   "metadata": {},
   "source": [
    "### Semantic analysis"
   ]
  },
  {
   "cell_type": "code",
   "execution_count": 22,
   "metadata": {
    "execution": {
     "iopub.execute_input": "2025-05-07T16:32:16.219505Z",
     "iopub.status.busy": "2025-05-07T16:32:16.219258Z",
     "iopub.status.idle": "2025-05-07T16:32:16.224530Z",
     "shell.execute_reply": "2025-05-07T16:32:16.223583Z",
     "shell.execute_reply.started": "2025-05-07T16:32:16.219486Z"
    },
    "trusted": true
   },
   "outputs": [],
   "source": [
    "ps = PorterStemmer()"
   ]
  },
  {
   "cell_type": "code",
   "execution_count": 23,
   "metadata": {
    "execution": {
     "iopub.execute_input": "2025-05-07T16:32:16.225691Z",
     "iopub.status.busy": "2025-05-07T16:32:16.225451Z",
     "iopub.status.idle": "2025-05-07T16:32:16.243997Z",
     "shell.execute_reply": "2025-05-07T16:32:16.242923Z",
     "shell.execute_reply.started": "2025-05-07T16:32:16.225671Z"
    },
    "trusted": true
   },
   "outputs": [],
   "source": [
    "def transform_text(text):\n",
    "    text = text.lower()\n",
    "    text = nltk.word_tokenize(text)\n",
    "    \n",
    "    y = []\n",
    "    for i in text:\n",
    "        if i.isalnum():\n",
    "            y.append(i)\n",
    "    \n",
    "    text = y[:]\n",
    "    y.clear()\n",
    "    \n",
    "    for i in text:\n",
    "        if i not in stopwords.words('english') and i not in string.punctuation:\n",
    "            y.append(i)\n",
    "            \n",
    "    text = y[:]\n",
    "    y.clear()\n",
    "    \n",
    "    for i in text:\n",
    "        y.append(ps.stem(i))\n",
    "    \n",
    "    return \" \".join(y)"
   ]
  },
  {
   "cell_type": "code",
   "execution_count": 24,
   "metadata": {
    "execution": {
     "iopub.execute_input": "2025-05-07T16:32:16.245226Z",
     "iopub.status.busy": "2025-05-07T16:32:16.244893Z",
     "iopub.status.idle": "2025-05-07T16:32:16.267916Z",
     "shell.execute_reply": "2025-05-07T16:32:16.266986Z",
     "shell.execute_reply.started": "2025-05-07T16:32:16.245199Z"
    },
    "trusted": true
   },
   "outputs": [
    {
     "data": {
      "text/plain": [
       "'gon na home soon want talk stuff anymor tonight k cri enough today'"
      ]
     },
     "execution_count": 24,
     "metadata": {},
     "output_type": "execute_result"
    }
   ],
   "source": [
    "transform_text(\"I'm gonna be home soon and i don't want to talk about this stuff anymore tonight, k? I've cried enough today.\")"
   ]
  },
  {
   "cell_type": "code",
   "execution_count": null,
   "metadata": {
    "execution": {
     "iopub.execute_input": "2025-05-07T16:32:16.269280Z",
     "iopub.status.busy": "2025-05-07T16:32:16.268969Z",
     "iopub.status.idle": "2025-05-07T16:37:02.452336Z",
     "shell.execute_reply": "2025-05-07T16:37:02.451435Z",
     "shell.execute_reply.started": "2025-05-07T16:32:16.269259Z"
    },
    "trusted": true
   },
   "outputs": [],
   "source": [
    "df['transformed_text'] = df['text'].apply(transform_text)"
   ]
  },
  {
   "cell_type": "code",
   "execution_count": null,
   "metadata": {
    "execution": {
     "iopub.execute_input": "2025-05-07T16:37:02.453648Z",
     "iopub.status.busy": "2025-05-07T16:37:02.453397Z",
     "iopub.status.idle": "2025-05-07T16:37:02.463794Z",
     "shell.execute_reply": "2025-05-07T16:37:02.462975Z",
     "shell.execute_reply.started": "2025-05-07T16:37:02.453629Z"
    },
    "trusted": true
   },
   "outputs": [],
   "source": [
    "df.head()"
   ]
  },
  {
   "cell_type": "code",
   "execution_count": null,
   "metadata": {
    "execution": {
     "iopub.execute_input": "2025-05-07T16:37:02.464923Z",
     "iopub.status.busy": "2025-05-07T16:37:02.464692Z",
     "iopub.status.idle": "2025-05-07T16:37:05.313617Z",
     "shell.execute_reply": "2025-05-07T16:37:05.312665Z",
     "shell.execute_reply.started": "2025-05-07T16:37:02.464905Z"
    },
    "trusted": true
   },
   "outputs": [],
   "source": [
    "wc = WordCloud(width=500,height=500,min_font_size=10,background_color='white')\n",
    "fake_wc = wc.generate(df[df['target'] == 0]['transformed_text'].str.cat(sep=\" \"))\n",
    "\n",
    "plt.figure(figsize=(15,6))\n",
    "plt.imshow(fake_wc)"
   ]
  },
  {
   "cell_type": "code",
   "execution_count": null,
   "metadata": {
    "execution": {
     "iopub.execute_input": "2025-05-07T16:37:05.314875Z",
     "iopub.status.busy": "2025-05-07T16:37:05.314584Z",
     "iopub.status.idle": "2025-05-07T16:37:10.747053Z",
     "shell.execute_reply": "2025-05-07T16:37:10.746020Z",
     "shell.execute_reply.started": "2025-05-07T16:37:05.314852Z"
    },
    "trusted": true
   },
   "outputs": [],
   "source": [
    "wc = WordCloud(width=500,height=500,min_font_size=10,background_color='white')\n",
    "original_wc = wc.generate(df[df['target'] == 1]['transformed_text'].str.cat(sep=\" \"))\n",
    "\n",
    "plt.figure(figsize=(15,6))\n",
    "plt.imshow(original_wc)"
   ]
  },
  {
   "cell_type": "code",
   "execution_count": null,
   "metadata": {
    "execution": {
     "iopub.execute_input": "2025-05-07T16:37:10.748638Z",
     "iopub.status.busy": "2025-05-07T16:37:10.748071Z",
     "iopub.status.idle": "2025-05-07T16:37:13.306212Z",
     "shell.execute_reply": "2025-05-07T16:37:13.305365Z",
     "shell.execute_reply.started": "2025-05-07T16:37:10.748611Z"
    },
    "trusted": true
   },
   "outputs": [],
   "source": [
    "tfidf = TfidfVectorizer(max_features=3000)\n",
    "X = tfidf.fit_transform(df['transformed_text']).toarray()\n",
    "y = df['target'].values"
   ]
  },
  {
   "cell_type": "code",
   "execution_count": null,
   "metadata": {
    "execution": {
     "iopub.execute_input": "2025-05-07T16:37:13.307459Z",
     "iopub.status.busy": "2025-05-07T16:37:13.307143Z",
     "iopub.status.idle": "2025-05-07T16:37:13.312357Z",
     "shell.execute_reply": "2025-05-07T16:37:13.311469Z",
     "shell.execute_reply.started": "2025-05-07T16:37:13.307432Z"
    },
    "trusted": true
   },
   "outputs": [],
   "source": [
    "print(X.shape)\n",
    "print(y.shape)"
   ]
  },
  {
   "cell_type": "code",
   "execution_count": null,
   "metadata": {
    "execution": {
     "iopub.execute_input": "2025-05-07T16:37:13.313598Z",
     "iopub.status.busy": "2025-05-07T16:37:13.313249Z",
     "iopub.status.idle": "2025-05-07T16:37:13.813333Z",
     "shell.execute_reply": "2025-05-07T16:37:13.812448Z",
     "shell.execute_reply.started": "2025-05-07T16:37:13.313500Z"
    },
    "trusted": true
   },
   "outputs": [],
   "source": [
    "X_train, X_test, y_train, y_test = train_test_split(X,y,test_size=0.2,random_state=32)"
   ]
  },
  {
   "cell_type": "markdown",
   "metadata": {},
   "source": [
    "## Model training"
   ]
  },
  {
   "cell_type": "code",
   "execution_count": null,
   "metadata": {
    "execution": {
     "iopub.execute_input": "2025-05-07T16:37:13.814582Z",
     "iopub.status.busy": "2025-05-07T16:37:13.814234Z",
     "iopub.status.idle": "2025-05-07T16:37:13.820461Z",
     "shell.execute_reply": "2025-05-07T16:37:13.819741Z",
     "shell.execute_reply.started": "2025-05-07T16:37:13.814552Z"
    },
    "trusted": true
   },
   "outputs": [],
   "source": [
    "# mnb = MultinomialNB()\n",
    "# svc = SVC(probability=True, kernel='linear')\n",
    "\n",
    "knc = KNeighborsClassifier()\n",
    "dtc = DecisionTreeClassifier(max_depth=5)\n",
    "xgb = XGBClassifier(n_estimators=50,random_state=2)\n",
    "abc = AdaBoostClassifier(n_estimators=50, random_state=2)\n",
    "lrc = LogisticRegression(solver='liblinear', penalty='l1')\n",
    "rfc = RandomForestClassifier(n_estimators=50, random_state=2)"
   ]
  },
  {
   "cell_type": "code",
   "execution_count": null,
   "metadata": {
    "execution": {
     "iopub.execute_input": "2025-05-07T16:37:13.822023Z",
     "iopub.status.busy": "2025-05-07T16:37:13.821712Z",
     "iopub.status.idle": "2025-05-07T16:37:13.844348Z",
     "shell.execute_reply": "2025-05-07T16:37:13.843182Z",
     "shell.execute_reply.started": "2025-05-07T16:37:13.821996Z"
    },
    "trusted": true
   },
   "outputs": [],
   "source": [
    "clfs = {\n",
    "    'KN' : knc, \n",
    "    'DT' : dtc, \n",
    "    'LR' : lrc, \n",
    "    'RF' : rfc,\n",
    "    'XGB' : xgb,\n",
    "    'AdaBoost' : abc,\n",
    "}"
   ]
  },
  {
   "cell_type": "code",
   "execution_count": null,
   "metadata": {
    "execution": {
     "iopub.execute_input": "2025-05-07T16:37:13.845621Z",
     "iopub.status.busy": "2025-05-07T16:37:13.845366Z",
     "iopub.status.idle": "2025-05-07T16:37:13.862112Z",
     "shell.execute_reply": "2025-05-07T16:37:13.861228Z",
     "shell.execute_reply.started": "2025-05-07T16:37:13.845601Z"
    },
    "trusted": true
   },
   "outputs": [],
   "source": [
    "def train_classifier(clf,X_train,y_train,X_test,y_test):\n",
    "    clf.fit(X_train,y_train)\n",
    "    y_pred = clf.predict(X_test)\n",
    "    \n",
    "    accuracy = accuracy_score(y_test,y_pred)\n",
    "    precision = precision_score(y_test, y_pred, average='weighted')\n",
    "    \n",
    "    return accuracy,precision"
   ]
  },
  {
   "cell_type": "markdown",
   "metadata": {},
   "source": [
    "## Model evaluation"
   ]
  },
  {
   "cell_type": "code",
   "execution_count": null,
   "metadata": {
    "execution": {
     "iopub.execute_input": "2025-05-07T16:37:13.863371Z",
     "iopub.status.busy": "2025-05-07T16:37:13.863049Z",
     "iopub.status.idle": "2025-05-07T16:40:23.222060Z",
     "shell.execute_reply": "2025-05-07T16:40:23.220755Z",
     "shell.execute_reply.started": "2025-05-07T16:37:13.863350Z"
    },
    "trusted": true
   },
   "outputs": [],
   "source": [
    "accuracy_scores = []\n",
    "precision_scores = []\n",
    "\n",
    "for name, clf in clfs.items():\n",
    "    current_accuracy, current_precision = train_classifier(clf, X_train,y_train,X_test,y_test)\n",
    "    \n",
    "    accuracy_scores.append(current_accuracy)\n",
    "    precision_scores.append(current_precision)"
   ]
  },
  {
   "cell_type": "code",
   "execution_count": null,
   "metadata": {
    "execution": {
     "iopub.execute_input": "2025-05-07T16:40:23.223648Z",
     "iopub.status.busy": "2025-05-07T16:40:23.223372Z",
     "iopub.status.idle": "2025-05-07T16:40:23.230777Z",
     "shell.execute_reply": "2025-05-07T16:40:23.229809Z",
     "shell.execute_reply.started": "2025-05-07T16:40:23.223626Z"
    },
    "trusted": true
   },
   "outputs": [],
   "source": [
    "performance_df = pd.DataFrame({'Algorithm':clfs.keys(),'Accuracy':accuracy_scores,'Precision':precision_scores}).sort_values('Precision',ascending=False)"
   ]
  },
  {
   "cell_type": "code",
   "execution_count": null,
   "metadata": {
    "execution": {
     "iopub.execute_input": "2025-05-07T16:40:23.232940Z",
     "iopub.status.busy": "2025-05-07T16:40:23.232009Z",
     "iopub.status.idle": "2025-05-07T16:40:23.259416Z",
     "shell.execute_reply": "2025-05-07T16:40:23.258591Z",
     "shell.execute_reply.started": "2025-05-07T16:40:23.232915Z"
    },
    "trusted": true
   },
   "outputs": [],
   "source": [
    "performance_df.reset_index(drop = True)"
   ]
  },
  {
   "cell_type": "code",
   "execution_count": null,
   "metadata": {
    "execution": {
     "iopub.execute_input": "2025-05-07T16:40:23.260560Z",
     "iopub.status.busy": "2025-05-07T16:40:23.260235Z",
     "iopub.status.idle": "2025-05-07T16:40:23.278170Z",
     "shell.execute_reply": "2025-05-07T16:40:23.277278Z",
     "shell.execute_reply.started": "2025-05-07T16:40:23.260534Z"
    },
    "trusted": true
   },
   "outputs": [],
   "source": [
    "# mnb = MultinomialNB()\n",
    "# svc = SVC(probability=True, kernel='linear')\n",
    "\n",
    "xgb = XGBClassifier(n_estimators=50,random_state=2)\n",
    "lrc = LogisticRegression(solver='liblinear', penalty='l1')\n",
    "rfc = RandomForestClassifier(n_estimators=50, random_state=2)"
   ]
  },
  {
   "cell_type": "code",
   "execution_count": null,
   "metadata": {
    "execution": {
     "iopub.execute_input": "2025-05-07T16:41:50.737469Z",
     "iopub.status.busy": "2025-05-07T16:41:50.737131Z",
     "iopub.status.idle": "2025-05-07T16:41:50.742826Z",
     "shell.execute_reply": "2025-05-07T16:41:50.741468Z",
     "shell.execute_reply.started": "2025-05-07T16:41:50.737445Z"
    },
    "trusted": true
   },
   "outputs": [],
   "source": [
    "voting = VotingClassifier(estimators=[('LR', lrc), ('xgb', xgb), ('RF', rfc)],voting='soft')"
   ]
  },
  {
   "cell_type": "code",
   "execution_count": null,
   "metadata": {
    "execution": {
     "iopub.execute_input": "2025-05-07T16:42:01.783717Z",
     "iopub.status.busy": "2025-05-07T16:42:01.783368Z",
     "iopub.status.idle": "2025-05-07T16:43:04.814910Z",
     "shell.execute_reply": "2025-05-07T16:43:04.814020Z",
     "shell.execute_reply.started": "2025-05-07T16:42:01.783693Z"
    },
    "trusted": true
   },
   "outputs": [],
   "source": [
    "voting.fit(X_train,y_train)"
   ]
  },
  {
   "cell_type": "code",
   "execution_count": null,
   "metadata": {
    "execution": {
     "iopub.execute_input": "2025-05-07T16:44:20.836430Z",
     "iopub.status.busy": "2025-05-07T16:44:20.836122Z",
     "iopub.status.idle": "2025-05-07T16:44:21.368181Z",
     "shell.execute_reply": "2025-05-07T16:44:21.367274Z",
     "shell.execute_reply.started": "2025-05-07T16:44:20.836407Z"
    },
    "trusted": true
   },
   "outputs": [],
   "source": [
    "y_pred = voting.predict(X_test)\n",
    "\n",
    "print(\"Accuracy :\", round(accuracy_score(y_test,y_pred), 2) * 100, \"%\")\n",
    "print(\"Precision :\", round(precision_score(y_test,y_pred), 2) * 100, \"%\")"
   ]
  },
  {
   "cell_type": "markdown",
   "metadata": {},
   "source": [
    "## Pickling\n",
    "Pickling the **Logistic Regression** model for use in the web application."
   ]
  },
  {
   "cell_type": "code",
   "execution_count": null,
   "metadata": {
    "execution": {
     "iopub.execute_input": "2025-05-07T16:56:55.118083Z",
     "iopub.status.busy": "2025-05-07T16:56:55.117735Z",
     "iopub.status.idle": "2025-05-07T16:56:55.966889Z",
     "shell.execute_reply": "2025-05-07T16:56:55.965711Z",
     "shell.execute_reply.started": "2025-05-07T16:56:55.118060Z"
    },
    "trusted": true
   },
   "outputs": [],
   "source": [
    "lrc.fit(X_train, y_train)\n",
    "\n",
    "pickle.dump(lrc, open('model_v1.pkl', 'wb'))\n",
    "pickle.dump(tfidf, open('vectorizer_v1.pkl','wb'))"
   ]
  }
 ],
 "metadata": {
  "kaggle": {
   "accelerator": "none",
   "dataSources": [
    {
     "datasetId": 7350267,
     "sourceId": 11710108,
     "sourceType": "datasetVersion"
    }
   ],
   "dockerImageVersionId": 31012,
   "isGpuEnabled": false,
   "isInternetEnabled": true,
   "language": "python",
   "sourceType": "notebook"
  },
  "kernelspec": {
   "display_name": ".venv",
   "language": "python",
   "name": "python3"
  },
  "language_info": {
   "codemirror_mode": {
    "name": "ipython",
    "version": 3
   },
   "file_extension": ".py",
   "mimetype": "text/x-python",
   "name": "python",
   "nbconvert_exporter": "python",
   "pygments_lexer": "ipython3",
   "version": "3.12.3"
  }
 },
 "nbformat": 4,
 "nbformat_minor": 4
}
